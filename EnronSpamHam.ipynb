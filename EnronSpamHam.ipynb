{
  "nbformat": 4,
  "nbformat_minor": 0,
  "metadata": {
    "colab": {
      "name": "EnronSpamHam.ipynb",
      "provenance": [],
      "authorship_tag": "ABX9TyPTtVaDPDJUDSZwCXYf9Rd6",
      "include_colab_link": true
    },
    "kernelspec": {
      "name": "python3",
      "display_name": "Python 3"
    }
  },
  "cells": [
    {
      "cell_type": "markdown",
      "metadata": {
        "id": "view-in-github",
        "colab_type": "text"
      },
      "source": [
        "<a href=\"https://colab.research.google.com/github/t-ben2/datasci_python_primer/blob/master/EnronSpamHam.ipynb\" target=\"_parent\"><img src=\"https://colab.research.google.com/assets/colab-badge.svg\" alt=\"Open In Colab\"/></a>"
      ]
    },
    {
      "cell_type": "code",
      "metadata": {
        "id": "Uut8yjkmcEop",
        "colab_type": "code",
        "colab": {}
      },
      "source": [
        ""
      ],
      "execution_count": 0,
      "outputs": []
    },
    {
      "cell_type": "markdown",
      "metadata": {
        "id": "iwbYagx1cRTh",
        "colab_type": "text"
      },
      "source": [
        "This directory contains the Enron-Spam datasets, as described in the \n",
        "paper:\n",
        "\n",
        "V. Metsis, I. Androutsopoulos and G. Paliouras, \"Spam Filtering with \n",
        "Naive Bayes - Which Naive Bayes?\". Proceedings of the 3rd Conference \n",
        "on Email and Anti-Spam (CEAS 2006), Mountain View, CA, USA, 2006.\n",
        "\n",
        "The \"preprocessed\" subdirectory contains the messages in the \n",
        "preprocessed format that was used in the experiments of the paper.\n",
        "Each message is in a separate text file. The number at the beginning\n",
        "of each filename is the \"order of arrival\".\n",
        "\n",
        "The \"raw\" subdirectory contains the messages in their original form. \n",
        "Spam messages in non-Latin encodings, ham messages sent by the owners \n",
        "of the mailboxes to themselves (sender in \"To:\", \"Cc:\", or \"Bcc\" \n",
        "field), and a handful of virus-infected messages have been removed, \n",
        "but no other modification has been made. The messages in the \"raw\" \n",
        "subdirectory are more than the corresponding messages in the \n",
        "\"preprocessed\" subdirectory, because: (a) duplicates are preserved \n",
        "in the \"raw\" form, and (b) during the preprocessing, ham and/or spam \n",
        "messages were randomly subsampled to obtain the desired ham:spam \n",
        "ratios. See the paper for further details.\n",
        "\n",
        "The Enron-Spam datasets are available from: \n",
        "<http://www.iit.demokritos.gr/skel/i-config/> and\n",
        "<http://www.aueb.gr/users/ion/publications.html>.\n",
        "\n",
        "The paper is available from:\n",
        "<http://www.ceas.cc/> and \n",
        "<http://www.aueb.gr/users/ion/publications.html>.\n",
        "\n",
        "V. Metsis, I. Androutsopoulos and G. Paliouras  \n",
        "\n",
        "This file last updated: June 19, 2006."
      ]
    },
    {
      "cell_type": "code",
      "metadata": {
        "id": "IhodindJcSxU",
        "colab_type": "code",
        "colab": {}
      },
      "source": [
        ""
      ],
      "execution_count": 0,
      "outputs": []
    }
  ]
}