{
 "cells": [
  {
   "cell_type": "markdown",
   "metadata": {
    "colab_type": "text",
    "id": "view-in-github"
   },
   "source": [
    "<a href=\"https://colab.research.google.com/github/t-ben2/datasci_python_primer/blob/master/EnronSpamHam.ipynb\" target=\"_parent\"><img src=\"https://colab.research.google.com/assets/colab-badge.svg\" alt=\"Open In Colab\"/></a>"
   ]
  },
  {
   "cell_type": "code",
   "execution_count": 0,
   "metadata": {
    "colab": {},
    "colab_type": "code",
    "id": "Uut8yjkmcEop"
   },
   "outputs": [],
   "source": []
  },
  {
   "cell_type": "markdown",
   "metadata": {
    "colab_type": "text",
    "id": "iwbYagx1cRTh"
   },
   "source": [
    "This directory contains the Enron-Spam datasets, as described in the \n",
    "paper:\n",
    "\n",
    "V. Metsis, I. Androutsopoulos and G. Paliouras, \"Spam Filtering with \n",
    "Naive Bayes - Which Naive Bayes?\". Proceedings of the 3rd Conference \n",
    "on Email and Anti-Spam (CEAS 2006), Mountain View, CA, USA, 2006.\n",
    "\n",
    "The \"preprocessed\" subdirectory contains the messages in the \n",
    "preprocessed format that was used in the experiments of the paper.\n",
    "Each message is in a separate text file. The number at the beginning\n",
    "of each filename is the \"order of arrival\".\n",
    "\n",
    "The \"raw\" subdirectory contains the messages in their original form. \n",
    "Spam messages in non-Latin encodings, ham messages sent by the owners \n",
    "of the mailboxes to themselves (sender in \"To:\", \"Cc:\", or \"Bcc\" \n",
    "field), and a handful of virus-infected messages have been removed, \n",
    "but no other modification has been made. The messages in the \"raw\" \n",
    "subdirectory are more than the corresponding messages in the \n",
    "\"preprocessed\" subdirectory, because: (a) duplicates are preserved \n",
    "in the \"raw\" form, and (b) during the preprocessing, ham and/or spam \n",
    "messages were randomly subsampled to obtain the desired ham:spam \n",
    "ratios. See the paper for further details.\n",
    "\n",
    "The Enron-Spam datasets are available from: \n",
    "<http://www.iit.demokritos.gr/skel/i-config/> and\n",
    "<http://www.aueb.gr/users/ion/publications.html>.\n",
    "\n",
    "The paper is available from:\n",
    "<http://www.ceas.cc/> and \n",
    "<http://www.aueb.gr/users/ion/publications.html>.\n",
    "\n",
    "V. Metsis, I. Androutsopoulos and G. Paliouras  \n",
    "\n",
    "This file last updated: June 19, 2006."
   ]
  },
  {
   "cell_type": "code",
   "execution_count": 0,
   "metadata": {
    "colab": {},
    "colab_type": "code",
    "id": "IhodindJcSxU"
   },
   "outputs": [],
   "source": [
    "import numpy as np\n",
    "import pandas as pd\n",
    "\n",
    "import os"
   ]
  },
  {
   "cell_type": "code",
   "execution_count": 0,
   "metadata": {
    "colab": {},
    "colab_type": "code",
    "id": "3t93IcI4c5HK"
   },
   "outputs": [],
   "source": [
    "os.listdir()"
   ]
  }
 ],
 "metadata": {
  "colab": {
   "authorship_tag": "ABX9TyOVrYlC4ksQF1HZMRR3LDfE",
   "include_colab_link": true,
   "name": "EnronSpamHam.ipynb",
   "provenance": []
  },
  "kernelspec": {
   "display_name": "Python 3",
   "language": "python",
   "name": "python3"
  },
  "language_info": {
   "codemirror_mode": {
    "name": "ipython",
    "version": 3
   },
   "file_extension": ".py",
   "mimetype": "text/x-python",
   "name": "python",
   "nbconvert_exporter": "python",
   "pygments_lexer": "ipython3",
   "version": "3.6.8"
  }
 },
 "nbformat": 4,
 "nbformat_minor": 1
}
