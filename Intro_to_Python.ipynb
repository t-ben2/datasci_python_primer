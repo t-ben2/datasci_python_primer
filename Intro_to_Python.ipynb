{
  "nbformat": 4,
  "nbformat_minor": 0,
  "metadata": {
    "colab": {
      "name": "Intro to Python.ipynb",
      "provenance": [],
      "collapsed_sections": [],
      "authorship_tag": "ABX9TyPvR4mogpO4BDOioPx6c9cO",
      "include_colab_link": true
    },
    "kernelspec": {
      "name": "python3",
      "display_name": "Python 3"
    }
  },
  "cells": [
    {
      "cell_type": "markdown",
      "metadata": {
        "id": "view-in-github",
        "colab_type": "text"
      },
      "source": [
        "<a href=\"https://colab.research.google.com/github/t-ben2/datasci_python_primer/blob/master/Intro_to_Python.ipynb\" target=\"_parent\"><img src=\"https://colab.research.google.com/assets/colab-badge.svg\" alt=\"Open In Colab\"/></a>"
      ]
    },
    {
      "cell_type": "markdown",
      "metadata": {
        "id": "JmBhsu1NJIYt",
        "colab_type": "text"
      },
      "source": [
        "**What is Python, and why learn it?**\n",
        "\n",
        " - General purpose programming language\n",
        " - Open source & free!\n",
        " - Huge user community\n",
        " - Packages with many applications across data analytics and data **science**\n",
        "\n"
      ]
    },
    {
      "cell_type": "markdown",
      "metadata": {
        "id": "ZsPU_6KMJkGC",
        "colab_type": "text"
      },
      "source": [
        "***Create Variables***"
      ]
    },
    {
      "cell_type": "code",
      "metadata": {
        "id": "JMcMF2gnKHJh",
        "colab_type": "code",
        "outputId": "541add82-6704-49b0-f8a7-5002f04270f1",
        "colab": {
          "base_uri": "https://localhost:8080/",
          "height": 51
        }
      },
      "source": [
        "#set variables for a person's height and weight\n",
        "height = 1.79\n",
        "weight = 67.5\n",
        "\n",
        "#print height variable\n",
        "print(height)\n",
        "\n",
        "#print variable in sentence describing my weight\n",
        "print('My weight is', weight, 'kg.')"
      ],
      "execution_count": 0,
      "outputs": [
        {
          "output_type": "stream",
          "text": [
            "1.79\n",
            "My weight is 67.5 kg.\n"
          ],
          "name": "stdout"
        }
      ]
    },
    {
      "cell_type": "markdown",
      "metadata": {
        "id": "cRJDvrzsKxyu",
        "colab_type": "text"
      },
      "source": [
        "***Formulas / Mathematical Operators***\n",
        "\n",
        "Check out this link for more info: https://www.w3schools.com/python/python_operators.asp"
      ]
    },
    {
      "cell_type": "code",
      "metadata": {
        "id": "41Sv4o_8K11I",
        "colab_type": "code",
        "outputId": "9424ac99-c120-4e58-efed-8c8e0803f9aa",
        "colab": {
          "base_uri": "https://localhost:8080/",
          "height": 34
        }
      },
      "source": [
        "#Calculate BMI as weight / height^2\n",
        "67.5 / 1.79 **2 "
      ],
      "execution_count": 0,
      "outputs": [
        {
          "output_type": "execute_result",
          "data": {
            "text/plain": [
              "21.066758216035705"
            ]
          },
          "metadata": {
            "tags": []
          },
          "execution_count": 3
        }
      ]
    },
    {
      "cell_type": "code",
      "metadata": {
        "id": "s1RhTL5SLSLk",
        "colab_type": "code",
        "outputId": "20e24136-e990-4af4-df95-bc6e7395334a",
        "colab": {
          "base_uri": "https://localhost:8080/",
          "height": 34
        }
      },
      "source": [
        "#Let's use the variables we defined earlier to improve this code\n",
        "bmi = weight / height ** 2\n",
        "#Print the newly created variable bmi\n",
        "print(bmi)"
      ],
      "execution_count": 0,
      "outputs": [
        {
          "output_type": "stream",
          "text": [
            "21.066758216035705\n"
          ],
          "name": "stdout"
        }
      ]
    },
    {
      "cell_type": "markdown",
      "metadata": {
        "id": "VUCseaaBL2A7",
        "colab_type": "text"
      },
      "source": [
        "*Why do you think using variables is important when we can just plug numbers in directly?*"
      ]
    },
    {
      "cell_type": "code",
      "metadata": {
        "id": "dKdkuMsRMDjd",
        "colab_type": "code",
        "outputId": "356087ee-99af-4c48-e18a-f5f7da7102d2",
        "colab": {
          "base_uri": "https://localhost:8080/",
          "height": 34
        }
      },
      "source": [
        "#Reproducibility of course! After Easter, my height stayed the same but I actually gained a few kilos..\n",
        "weight = 90 # <- Update weight variable\n",
        "\n",
        "bmi = weight / height ** 2\n",
        "print(bmi)"
      ],
      "execution_count": 0,
      "outputs": [
        {
          "output_type": "stream",
          "text": [
            "28.089010954714272\n"
          ],
          "name": "stdout"
        }
      ]
    },
    {
      "cell_type": "markdown",
      "metadata": {
        "id": "OyFr7i8nMtuM",
        "colab_type": "text"
      },
      "source": [
        "***Data types*** \n",
        "\n",
        "Check out this link for more info: https://www.w3schools.com/python/python_datatypes.asp"
      ]
    },
    {
      "cell_type": "code",
      "metadata": {
        "id": "BS5W-gYZMy-t",
        "colab_type": "code",
        "outputId": "6dedba72-7652-43d4-dae4-7d0c54f483b8",
        "colab": {
          "base_uri": "https://localhost:8080/",
          "height": 34
        }
      },
      "source": [
        "type(bmi)"
      ],
      "execution_count": 0,
      "outputs": [
        {
          "output_type": "execute_result",
          "data": {
            "text/plain": [
              "float"
            ]
          },
          "metadata": {
            "tags": []
          },
          "execution_count": 10
        }
      ]
    },
    {
      "cell_type": "code",
      "metadata": {
        "id": "ZgnzfvprM3JY",
        "colab_type": "code",
        "outputId": "337f6f70-9937-4b37-8089-b169ab523ad0",
        "colab": {
          "base_uri": "https://localhost:8080/",
          "height": 34
        }
      },
      "source": [
        "#The below variables have different data types\n",
        "number = 5\n",
        "day = 'Saturday'\n",
        "z = True\n",
        "\n",
        "print(type(number), type(day), type(z))"
      ],
      "execution_count": 0,
      "outputs": [
        {
          "output_type": "stream",
          "text": [
            "<class 'int'> <class 'str'> <class 'bool'>\n"
          ],
          "name": "stdout"
        }
      ]
    },
    {
      "cell_type": "code",
      "metadata": {
        "id": "otPQ6E_jNQJ5",
        "colab_type": "code",
        "outputId": "1578acb9-e633-4e6d-931d-8e81b74aae60",
        "colab": {
          "base_uri": "https://localhost:8080/",
          "height": 102
        }
      },
      "source": [
        "#Data type impacts the behaviour of the mathematical operator! \n",
        "\n",
        "print('2 + 3 =', 2 + 3,'\\n') # Hint: use '\\n' to print newlines and make outputs easie to read\n",
        "print('\"ab\" + \"cd\" = ', 'ab' + 'cd','\\n')\n",
        "print('3 x \"Saturday\" = ', 3 * day)"
      ],
      "execution_count": 0,
      "outputs": [
        {
          "output_type": "stream",
          "text": [
            "2 + 3 = 5 \n",
            "\n",
            "\"ab\" + \"cd\" =  abcd \n",
            "\n",
            "3 x \"Saturday\" =  SaturdaySaturdaySaturday\n"
          ],
          "name": "stdout"
        }
      ]
    },
    {
      "cell_type": "markdown",
      "metadata": {
        "id": "vG2xQdZLOwt_",
        "colab_type": "text"
      },
      "source": [
        "***Python Data Structures***\n",
        "\n",
        "What happens when we want to deal with groups of values? Think a row of data in an excel table.\n",
        "\n",
        "Each data variable we defined above represented a single value, so what happens if we now have weight and height data for an audit team?\n",
        "\n",
        "Check out this link for more info: https://www.datacamp.com/community/tutorials/data-structures-python\n",
        "\n"
      ]
    },
    {
      "cell_type": "code",
      "metadata": {
        "id": "umUTpIPqPegI",
        "colab_type": "code",
        "colab": {}
      },
      "source": [
        "#We could do this, but it's not very convenient or feasible for large datasets..\n",
        "partner_height = 1.75\n",
        "manager_height = 1.7\n",
        "am_height = 1.65\n",
        "analyst_height = 1.76\n"
      ],
      "execution_count": 0,
      "outputs": []
    },
    {
      "cell_type": "markdown",
      "metadata": {
        "id": "V2IjL8ovP19y",
        "colab_type": "text"
      },
      "source": [
        "*Python Lists*\n",
        "\n",
        " - Name a collection of variables\n",
        " - Can contain data of any type\n",
        " - Can contain data of differing data type"
      ]
    },
    {
      "cell_type": "code",
      "metadata": {
        "id": "sDJy2Sv4P0Xb",
        "colab_type": "code",
        "outputId": "e77dc739-b350-402d-8ca2-271983b222d4",
        "colab": {
          "base_uri": "https://localhost:8080/",
          "height": 34
        }
      },
      "source": [
        "list_of_heights = [1.75,1.7,1.65,1.76]\n",
        "print(list_of_heights)"
      ],
      "execution_count": 0,
      "outputs": [
        {
          "output_type": "stream",
          "text": [
            "[1.75, 1.7, 1.65, 1.76]\n"
          ],
          "name": "stdout"
        }
      ]
    },
    {
      "cell_type": "code",
      "metadata": {
        "id": "H30xNjCZbxRz",
        "colab_type": "code",
        "outputId": "a088e474-5ad4-42cf-d95a-1ecfd1daf5cf",
        "colab": {
          "base_uri": "https://localhost:8080/",
          "height": 85
        }
      },
      "source": [
        "list_of_lists = [['partner_height', 1,75], ['manager_height', 1.7], \\ #backslash splits \n",
        "                 ['am_height', 1.65], ['analyst_height', 1.76]] #code across multiple lines\n",
        "list_of_lists"
      ],
      "execution_count": 0,
      "outputs": [
        {
          "output_type": "execute_result",
          "data": {
            "text/plain": [
              "[['partner_height', 1, 75],\n",
              " ['manager_height', 1.7],\n",
              " ['am_height', 1.65],\n",
              " ['analyst_height', 1.76]]"
            ]
          },
          "metadata": {
            "tags": []
          },
          "execution_count": 27
        }
      ]
    },
    {
      "cell_type": "code",
      "metadata": {
        "id": "USnXH0sfcT6b",
        "colab_type": "code",
        "outputId": "cf40ae74-6cac-4886-ffa1-da14acadebe5",
        "colab": {
          "base_uri": "https://localhost:8080/",
          "height": 51
        }
      },
      "source": [
        "print(type(list_of_heights))\n",
        "print(type(list_of_lists))"
      ],
      "execution_count": 0,
      "outputs": [
        {
          "output_type": "stream",
          "text": [
            "<class 'list'>\n",
            "<class 'list'>\n"
          ],
          "name": "stdout"
        }
      ]
    }
  ]
}